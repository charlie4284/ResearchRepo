{
 "cells": [
  {
   "cell_type": "code",
   "execution_count": 1,
   "metadata": {},
   "outputs": [],
   "source": [
    "import torch\n",
    "import torch.nn as nn\n",
    "import torch.nn.functional as F\n",
    "\n",
    "import torchvision\n",
    "from torchvision import utils\n",
    "from torchvision import transforms\n",
    "\n",
    "from PIL import Image \n",
    "\n",
    "import os\n",
    "import numpy as np"
   ]
  },
  {
   "cell_type": "code",
   "execution_count": 2,
   "metadata": {},
   "outputs": [],
   "source": [
    "def decode(x):\n",
    "    num_filters = 256\n",
    "    for i in range(3):\n",
    "        num_filters = num_filters // pow(2, i)\n",
    "        x = nn.ConvTranspose2d(in_channels=64,out_channels=num_filters,kernel_size=(4,4),bias=False)(x)\n",
    "        x = nn.BatchNorm2d(256)(x)\n",
    "        x = nn.ReLU()(x)\n",
    "        return x"
   ]
  },
  {
   "cell_type": "code",
   "execution_count": 4,
   "metadata": {},
   "outputs": [
    {
     "name": "stdout",
     "output_type": "stream",
     "text": [
      "torch.Size([1, 3, 480, 480])\n"
     ]
    },
    {
     "ename": "TypeError",
     "evalue": "gather() received an invalid combination of arguments - got (int, int), but expected one of:\n * (name dim, Tensor index, bool sparse_grad)\n * (int dim, Tensor index, bool sparse_grad)\n",
     "output_type": "error",
     "traceback": [
      "\u001b[0;31m---------------------------------------------------------------------------\u001b[0m",
      "\u001b[0;31mTypeError\u001b[0m                                 Traceback (most recent call last)",
      "\u001b[0;32m<ipython-input-4-224de81ced30>\u001b[0m in \u001b[0;36m<module>\u001b[0;34m\u001b[0m\n\u001b[1;32m     11\u001b[0m \u001b[0mx\u001b[0m \u001b[0;34m=\u001b[0m \u001b[0mnn\u001b[0m\u001b[0;34m.\u001b[0m\u001b[0mBatchNorm2d\u001b[0m\u001b[0;34m(\u001b[0m\u001b[0;36m64\u001b[0m\u001b[0;34m)\u001b[0m\u001b[0;34m(\u001b[0m\u001b[0mx\u001b[0m\u001b[0;34m)\u001b[0m\u001b[0;34m\u001b[0m\u001b[0;34m\u001b[0m\u001b[0m\n\u001b[1;32m     12\u001b[0m \u001b[0mx\u001b[0m \u001b[0;34m=\u001b[0m \u001b[0mnn\u001b[0m\u001b[0;34m.\u001b[0m\u001b[0mConv2d\u001b[0m\u001b[0;34m(\u001b[0m\u001b[0min_channels\u001b[0m\u001b[0;34m=\u001b[0m\u001b[0;36m64\u001b[0m\u001b[0;34m,\u001b[0m \u001b[0mout_channels\u001b[0m\u001b[0;34m=\u001b[0m\u001b[0mnum_classes\u001b[0m\u001b[0;34m,\u001b[0m \u001b[0mkernel_size\u001b[0m\u001b[0;34m=\u001b[0m\u001b[0;36m1\u001b[0m\u001b[0;34m)\u001b[0m\u001b[0;34m(\u001b[0m\u001b[0mx\u001b[0m\u001b[0;34m)\u001b[0m\u001b[0;34m\u001b[0m\u001b[0;34m\u001b[0m\u001b[0m\n\u001b[0;32m---> 13\u001b[0;31m \u001b[0mx\u001b[0m\u001b[0;34m.\u001b[0m\u001b[0mgather\u001b[0m\u001b[0;34m(\u001b[0m\u001b[0;36m1\u001b[0m\u001b[0;34m,\u001b[0m\u001b[0;36m1\u001b[0m\u001b[0;34m)\u001b[0m\u001b[0;34m\u001b[0m\u001b[0;34m\u001b[0m\u001b[0m\n\u001b[0m\u001b[1;32m     14\u001b[0m \u001b[0mprint\u001b[0m\u001b[0;34m(\u001b[0m\u001b[0mx\u001b[0m\u001b[0;34m.\u001b[0m\u001b[0mshape\u001b[0m\u001b[0;34m)\u001b[0m\u001b[0;34m\u001b[0m\u001b[0;34m\u001b[0m\u001b[0m\n",
      "\u001b[0;31mTypeError\u001b[0m: gather() received an invalid combination of arguments - got (int, int), but expected one of:\n * (name dim, Tensor index, bool sparse_grad)\n * (int dim, Tensor index, bool sparse_grad)\n"
     ]
    }
   ],
   "source": [
    "sample_img = Image.open(\"./images/street_small.jpg\")\n",
    "sample_tensor = transforms.ToTensor()(sample_img)\n",
    "sample_tensor = sample_tensor.view(-1, sample_tensor.shape[0], sample_tensor.shape[1], sample_tensor.shape[2])\n",
    "num_classes = 10\n",
    "print(sample_tensor.shape)\n",
    "x = sample_tensor\n",
    "x = nn.Conv2d(3, 32, 5)(x)\n",
    "x = nn.Conv2d(32, 64, 5)(x)\n",
    "x = decode(x)\n",
    "x = nn.Conv2d(in_channels=256 ,out_channels=64, kernel_size=3, bias=False)(x)\n",
    "x = nn.BatchNorm2d(64)(x)\n",
    "x = nn.Conv2d(in_channels=64, out_channels=num_classes, kernel_size=1)(x)"
   ]
  },
  {
   "cell_type": "code",
   "execution_count": null,
   "metadata": {},
   "outputs": [],
   "source": [
    "class ConvCenterNet(nn.Module):\n",
    "    def __init__(self, num_classes=10, input_size=480, max_objects=100):\n",
    "        super(ConvCenterNet, self).__init__()\n",
    "        self.conv1 = nn.Conv2d(3, 32, 5)\n",
    "        self.conv2 = nn.Conv2d(32, 64, 5)\n",
    "        self.decoder = decode(x)\n",
    "        \n",
    "        # heatmap header\n",
    "        self.hm_conv2d_1 = nn.Conv2d(in_channels=256 ,out_channels=64, kernel_size=3, bias=False)\n",
    "        self.hm_bn = nn.BatchNorm2d(64)\n",
    "        self.hm_relu = nn.ReLU()\n",
    "        self.hm_conv2d_2 = nn.Conv2d(in_channels=64, out_channels=num_classes, kernel_size=1)\n",
    "        \n",
    "        # wh header\n",
    "        self.wh_conv2d_1 = nn.Conv2d(in_channels=256 ,out_channels=64, kernel_size=3, bias=False)\n",
    "        self.wh_bn = nn.BatchNorm2d(64)\n",
    "        self.wh_relu = nn.ReLU()\n",
    "        self.wh_conv2d_2 = nn.Conv2d(in_channels=64, out_channels=2, kernel_size=1)\n",
    "        \n",
    "        # reg header is the same as wh header\n",
    "        self.reg_conv2d_1 = nn.Conv2d(in_channels=256 ,out_channels=64, kernel_size=3, bias=False)\n",
    "        self.reg_bn = nn.BatchNorm2d(64)\n",
    "        self.reg_relu = nn.ReLU()\n",
    "        self.reg_conv2d_2 = nn.Conv2d(in_channels=64, out_channels=2, kernel_size=1)\n",
    "    \n",
    "    def forward(x):\n",
    "        \n",
    "        x = self.conv1(x)\n",
    "        x = self.conv2(x)\n",
    "        x = self.decoder(x)\n",
    "        \n",
    "        # hm header\n",
    "        y1 = self.hm_conv2d_1(x)\n",
    "        y1 = self.hm_bn(y1)\n",
    "        y1 = self.hm_relu(y1)\n",
    "        y1 = self.hm_conv2d_2(y1)\n",
    "        \n",
    "        # wh header\n",
    "        y2 = self.wh_conv2d_1(y2)\n",
    "        y2 = self.wh_bn(y2)\n",
    "        y2 = self.wh_relu(y2)\n",
    "        y2 = self.wh_conv2d_2(y2)\n",
    "        \n",
    "        # reg header\n",
    "        y3 = self.reg_conv2d_1(x)\n",
    "        y3 = self.reg_bn(y3)\n",
    "        y3 = self.reg_relu(y3)\n",
    "        y3 = self.reg_conv2d_2(y3)\n",
    "        \n",
    "        return [y1, y2, y3]"
   ]
  },
  {
   "cell_type": "code",
   "execution_count": null,
   "metadata": {},
   "outputs": [],
   "source": []
  }
 ],
 "metadata": {
  "kernelspec": {
   "display_name": "Python 3",
   "language": "python",
   "name": "python3"
  },
  "language_info": {
   "codemirror_mode": {
    "name": "ipython",
    "version": 3
   },
   "file_extension": ".py",
   "mimetype": "text/x-python",
   "name": "python",
   "nbconvert_exporter": "python",
   "pygments_lexer": "ipython3",
   "version": "3.6.9"
  }
 },
 "nbformat": 4,
 "nbformat_minor": 4
}
